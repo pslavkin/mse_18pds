{
 "cells": [
  {
   "cell_type": "markdown",
   "metadata": {},
   "source": [
    "# Predicción lineal"
   ]
  },
  {
   "cell_type": "markdown",
   "metadata": {},
   "source": [
    " En la figura se observa un filtro forward predictor con una estructura FIR"
   ]
  },
  {
   "cell_type": "markdown",
   "metadata": {},
   "source": [
    "<img src=\"predictor.png\" alt=\"Predictor lineal\"/>"
   ]
  },
  {
   "cell_type": "markdown",
   "metadata": {},
   "source": [
    "Las entradas a los taps son $u(i-1), u(i-2), ..., u(i-M)$. La idea de este filtro es predecir el valor siguiente de la señal $u(i)$, denotado $\\hat{u}(i)$."
   ]
  },
  {
   "cell_type": "markdown",
   "metadata": {},
   "source": [
    "El objetivo es encontrar el vector de taps *${\\hat{w}}$* que minimice la suma cuadrática de los errores de predicción, $e_f$"
   ]
  },
  {
   "cell_type": "markdown",
   "metadata": {},
   "source": [
    "$$e_f = \\sum_{i=M+1}^{N} \\left|f_M(i)\\right|^2$$"
   ]
  },
  {
   "cell_type": "markdown",
   "metadata": {},
   "source": [
    "#### Encontrar:\n",
    "\n",
    "1. La matriz de $M$ por $M$ de correlación los taps de entrada \n",
    "\n",
    "2. El vector de correlación cruzada $M$ por $1$ entre los taps de entrada del predictor y la respuesta deseada $u(i)$ \n",
    "\n",
    "3. El valor mínimo de $e_f$\n",
    "\n",
    "4. El vector de taps *${\\hat{w}}$*\n",
    "\n",
    "5. Una vez obtenida la ecuación del filtro predictor, calcular el filtro para $N$ valores de una realización de la siguiente señal:\n",
    "\n",
    "$$u(i) = sen(2\\pi\\omega_0i + \\phi_0) + 0.02n(i)$$\n",
    "\n",
    "siendo $\\omega_0 = 3, \\phi_0 = \\pi / 4$ y $n(i)$ un ruido gaussiano de varianza unitaria. Tomar N = 100 y M = 4\n",
    "\n",
    "6. Ver cómo se comporta el filtro (es decir, su capacidad de predicción) para otras realizaciones del mismo proceso."
   ]
  },
  {
   "cell_type": "markdown",
   "metadata": {},
   "source": [
    "#### Consejos orientativos:\n",
    "* Pensar a $N$ como un valor mayor a $M$. Es decir, $N$ representa la cantidad TOTAL de puntos de $u(i)$ y $M$ es la cantidad de taps del filtro. En un momento dado, hay $M$ puntos de $u(i)$ dentro del filtro.\n",
    "* Podemos pensar que el primer valor válido de $u$ es $u(1)$, es decir la secuencia empieza $u(1), u(2), \\dots ,u(N)$\n",
    "* El filtro produce resultados desde $i = M+1$ hasta $i = N$, es decir, $N-M$ predicciones.\n",
    "* Al ser las señales reales, los valores hermíticos de los vectores o matrices son los traspuestos.\n",
    "* Para multiplicación de matrices, utilizar @. Por ejemplo:"
   ]
  },
  {
   "cell_type": "code",
   "execution_count": 11,
   "metadata": {},
   "outputs": [
    {
     "data": {
      "text/plain": [
       "array([16, 13])"
      ]
     },
     "execution_count": 11,
     "metadata": {},
     "output_type": "execute_result"
    }
   ],
   "source": [
    "import numpy as np\n",
    "a = np.array([[1,2,3],[2,3,1]])\n",
    "b = np.array([-1,4,3])\n",
    "c = a @ b\n",
    "c"
   ]
  }
 ],
 "metadata": {
  "kernelspec": {
   "display_name": "Python 3",
   "language": "python",
   "name": "python3"
  },
  "language_info": {
   "codemirror_mode": {
    "name": "ipython",
    "version": 3
   },
   "file_extension": ".py",
   "mimetype": "text/x-python",
   "name": "python",
   "nbconvert_exporter": "python",
   "pygments_lexer": "ipython3",
   "version": "3.7.3"
  }
 },
 "nbformat": 4,
 "nbformat_minor": 2
}
