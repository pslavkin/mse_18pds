{
 "cells": [
  {
   "cell_type": "markdown",
   "metadata": {},
   "source": [
    "# Predicción lineal"
   ]
  },
  {
   "cell_type": "markdown",
   "metadata": {},
   "source": [
    " En la figura se observa un filtro forward predictor con una estructura FIR"
   ]
  },
  {
   "cell_type": "markdown",
   "metadata": {},
   "source": [
    "<img src=\"predictor.png\" alt=\"Predictor lineal\"/>"
   ]
  },
  {
   "cell_type": "markdown",
   "metadata": {},
   "source": [
    "Las entradas a los taps son $u(i-1), u(i-2), ..., u(i-M)$. La idea de este filtro es predecir el valor siguiente de la señal $u(i)$, denotado $\\hat{u}(i)$."
   ]
  },
  {
   "cell_type": "markdown",
   "metadata": {},
   "source": [
    "El objetivo es encontrar el vector de taps *${\\hat{w}}$* que minimice la suma cuadrática de los errores de predicción, $e_f$"
   ]
  },
  {
   "cell_type": "markdown",
   "metadata": {},
   "source": [
    "$$e_f = \\sum_{i=M+1}^{N} \\left|f_M(i)\\right|^2$$"
   ]
  },
  {
   "cell_type": "markdown",
   "metadata": {},
   "source": [
    "#### Encontrar:\n",
    "\n",
    "1. La matriz de $M$ por $M$ de correlación los taps de entrada \n",
    "\n",
    "2. El vector de correlación cruzada $M$ por $1$ entre los taps de entrada del predictor y la respuesta deseada $u(i)$ \n",
    "\n",
    "3. El valor mínimo de $e_f$\n",
    "\n",
    "4. El vector de taps *${\\hat{w}}$*\n",
    "\n",
    "5. Una vez obtenida la ecuación del filtro predictor, calcular el filtro para $N$ valores de una realización de la siguiente señal:\n",
    "\n",
    "$$u(i) = sen(2\\pi\\omega_0i + \\phi_0) + 0.02n(i)$$\n",
    "\n",
    "siendo $\\omega_0 = 3, \\phi_0 = \\pi / 4$ y $n(i)$ un ruido gaussiano de varianza unitaria. Tomar N = 100 y M = 4\n",
    "\n",
    "6. Ver cómo se comporta el filtro (es decir, su capacidad de predicción) para otras realizaciones del mismo proceso."
   ]
  },
  {
   "cell_type": "markdown",
   "metadata": {},
   "source": [
    "#### Consejos orientativos:\n",
    "* Pensar a $N$ como un valor mayor a $M$. Es decir, $N$ representa la cantidad TOTAL de puntos de $u(i)$ y $M$ es la cantidad de taps del filtro. En un momento dado, hay $M$ puntos de $u(i)$ dentro del filtro.\n",
    "* Podemos pensar que el primer valor válido de $u$ es $u(1)$, es decir la secuencia empieza $u(1), u(2), \\dots ,u(N)$\n",
    "* El filtro produce resultados desde $i = M+1$ hasta $i = N$, es decir, $N-M$ predicciones.\n",
    "* Al ser las señales reales, los valores hermíticos de los vectores o matrices son los traspuestos.\n",
    "* Para multiplicación de matrices, utilizar @. Por ejemplo:"
   ]
  },
  {
   "cell_type": "code",
   "execution_count": 9,
   "metadata": {},
   "outputs": [
    {
     "data": {
      "text/plain": [
       "array([16, 13])"
      ]
     },
     "execution_count": 9,
     "metadata": {},
     "output_type": "execute_result"
    }
   ],
   "source": [
    "import numpy as np\n",
    "a = np.array([[1,2,3],[2,3,1]])\n",
    "b = np.array([-1,4,3])\n",
    "c = a @ b\n",
    "c"
   ]
  },
  {
   "cell_type": "markdown",
   "metadata": {},
   "source": [
    "## Respuestas"
   ]
  },
  {
   "cell_type": "markdown",
   "metadata": {},
   "source": [
    "# R1. \n",
    "La matriz de MxM de autocorrelacion de los taps de entrada es; "
   ]
  },
  {
   "cell_type": "markdown",
   "metadata": {},
   "source": [
    "<img src=\"matriz_correlacion2.png\" alt=\"matriz correlacion\" width=500/>"
   ]
  },
  {
   "cell_type": "markdown",
   "metadata": {},
   "source": [
    "donde $\\phi(t,k)$ son los coeficientes de autocorrelacion segun:"
   ]
  },
  {
   "cell_type": "markdown",
   "metadata": {},
   "source": [
    "<img src=\"fi.png\" alt=\"fi\" width=200/>"
   ]
  },
  {
   "cell_type": "markdown",
   "metadata": {},
   "source": [
    "pero por convenientica matematica se define una matriz A hermitica, tal que:"
   ]
  },
  {
   "cell_type": "markdown",
   "metadata": {},
   "source": [
    "<img src=\"a_hermitica.png\" alt=\"a_hermitica\" width=400/>"
   ]
  },
  {
   "cell_type": "code",
   "execution_count": 13,
   "metadata": {},
   "outputs": [],
   "source": [
    "# genera la matriz A hermitica basada en el vector de entrada Nx1 y el numero de coeficientes M\n",
    "# elegido. resultando en una matriz de M filas y N (N-M+1) columnas              \n",
    "def generateAHermitica(self,u,M):                                                \n",
    "    N=u.size-M+1                                                                 \n",
    "    aH=np.zeros((M,N))                                                              \n",
    "    for i in range(M):                                                           \n",
    "        aH[i]=u[M-i-1:M-i-1+N]                                                   \n",
    "    return aH "
   ]
  },
  {
   "cell_type": "markdown",
   "metadata": {},
   "source": [
    "entonces $\\phi$ sera:"
   ]
  },
  {
   "cell_type": "markdown",
   "metadata": {},
   "source": [
    "<img src=\"fi_a_hermitica.png\" alt=\"fi_a_hermitica\" width=150/>"
   ]
  },
  {
   "cell_type": "code",
   "execution_count": 15,
   "metadata": {},
   "outputs": [],
   "source": [
    "#simplemente calcula la matriz hermitica de otra matriz, para hacer mas legible el codigo y\n",
    "#reutilizar la funcion repetidamente, si entra MxN sale NxM                      \n",
    "def calcHermitica(self,aH):                                                      \n",
    "    return aH.transpose().conjugate()                                            \n",
    "                                                                                 \n",
    "#calcula la matriz phi de autocorrelacion, basado en la matriz hermitica, es un calculo simple\n",
    "# pero de nuevo se lo define como funcion por modularidad, el resultado sera una matriz de MxM\n",
    "def phi(self,aH):                                                                \n",
    "    return aH@self.calcHermitica(aH) "
   ]
  },
  {
   "cell_type": "markdown",
   "metadata": {},
   "source": [
    "# R2.\n",
    "Luego el vector Z de correlacion cruzada entre los taps de entrada del predictor y la respuesta deseada sera:"
   ]
  },
  {
   "cell_type": "markdown",
   "metadata": {},
   "source": [
    "<img src=\"z.png\" alt=\"z\" width=350/>\n",
    "<img src=\"z2.png\" alt=\"z2\" width=150/>"
   ]
  },
  {
   "cell_type": "code",
   "execution_count": 16,
   "metadata": {},
   "outputs": [],
   "source": [
    "#calcula el vector correlacion cruzada z, que es simplemente A hermitica por el vector d. el\n",
    "#resultado sera de dimension Mx1                                                 \n",
    "def z(self,aH,d):                                                                \n",
    "    return aH@d "
   ]
  },
  {
   "cell_type": "markdown",
   "metadata": {},
   "source": [
    "# R3.\n",
    "El valor minimo e, como el minimo error cuadratico medio entre la senial obtenida y la deseada sera:"
   ]
  },
  {
   "cell_type": "markdown",
   "metadata": {},
   "source": [
    "\n",
    "<img src=\"e.png\" alt=\"e\" width=350/>"
   ]
  },
  {
   "cell_type": "code",
   "execution_count": 18,
   "metadata": {},
   "outputs": [],
   "source": [
    "#calcula e (1x1) que es el error cuadratico medio entre el vector deseado y lo obtenido a\n",
    "#la salida del filtro                                                            \n",
    "def e(self,aH,d):                                                                \n",
    "    return self.calcHermitica(d)@d - self.w(aH,d)@self.z(aH,d)                   \n",
    "                                                                 "
   ]
  },
  {
   "cell_type": "markdown",
   "metadata": {},
   "source": [
    "# R4.\n",
    "El vector de taps del filtro se calcula mediante:"
   ]
  },
  {
   "cell_type": "markdown",
   "metadata": {},
   "source": [
    "\n",
    "<img src=\"w.png\" alt=\"w\" width=350/>"
   ]
  },
  {
   "cell_type": "code",
   "execution_count": 19,
   "metadata": {},
   "outputs": [],
   "source": [
    "#calcula el vector w que seran los parametros del filtro Mx1                     \n",
    "def w(self,aH,d):                                                                \n",
    "    return np.linalg.inv(self.phi(aH))@self.z(aH,d)"
   ]
  },
  {
   "cell_type": "markdown",
   "metadata": {},
   "source": [
    "# R5.\n",
    "experimentacion:"
   ]
  },
  {
   "cell_type": "code",
   "execution_count": null,
   "metadata": {},
   "outputs": [],
   "source": []
  }
 ],
 "metadata": {
  "kernelspec": {
   "display_name": "Python 3",
   "language": "python",
   "name": "python3"
  },
  "language_info": {
   "codemirror_mode": {
    "name": "ipython",
    "version": 3
   },
   "file_extension": ".py",
   "mimetype": "text/x-python",
   "name": "python",
   "nbconvert_exporter": "python",
   "pygments_lexer": "ipython3",
   "version": "3.7.3"
  }
 },
 "nbformat": 4,
 "nbformat_minor": 2
}
